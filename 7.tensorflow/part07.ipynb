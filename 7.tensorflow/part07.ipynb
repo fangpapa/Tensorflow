{
 "cells": [
  {
   "cell_type": "code",
   "execution_count": 1,
   "metadata": {},
   "outputs": [],
   "source": [
    "def normalize(x):\n",
    "    return x/255 "
   ]
  },
  {
   "cell_type": "code",
   "execution_count": 2,
   "metadata": {},
   "outputs": [
    {
     "data": {
      "text/plain": [
       "array([0.47058824, 1.29019608, 1.        ])"
      ]
     },
     "execution_count": 2,
     "metadata": {},
     "output_type": "execute_result"
    }
   ],
   "source": [
    "import numpy as np\n",
    "normalize(np.array([120,329,255])) "
   ]
  },
  {
   "cell_type": "code",
   "execution_count": 3,
   "metadata": {},
   "outputs": [],
   "source": [
    "def one_hot_encode(x):\n",
    "    output = np.zeros((len(x),10))\n",
    "    for i in range(len(x)):\n",
    "        output[i][x[i]] = 1  \n",
    "    return output"
   ]
  },
  {
   "cell_type": "code",
   "execution_count": 4,
   "metadata": {},
   "outputs": [
    {
     "data": {
      "text/plain": [
       "array([[0., 1., 0., 0., 0., 0., 0., 0., 0., 0.],\n",
       "       [0., 0., 0., 1., 0., 0., 0., 0., 0., 0.],\n",
       "       [0., 0., 0., 0., 0., 0., 1., 0., 0., 0.],\n",
       "       [0., 0., 1., 0., 0., 0., 0., 0., 0., 0.],\n",
       "       [0., 0., 0., 0., 1., 0., 0., 0., 0., 0.],\n",
       "       [0., 0., 0., 0., 0., 0., 0., 0., 0., 1.]])"
      ]
     },
     "execution_count": 4,
     "metadata": {},
     "output_type": "execute_result"
    }
   ],
   "source": [
    "one_hot_encode(np.array([1,3,6,2,4,9])) "
   ]
  },
  {
   "cell_type": "code",
   "execution_count": 5,
   "metadata": {},
   "outputs": [],
   "source": [
    "\n",
    "import helper\n",
    "helper.preprocess_and_save_data('cifar-10-batches-py', normalize, one_hot_encode)"
   ]
  },
  {
   "cell_type": "code",
   "execution_count": 6,
   "metadata": {},
   "outputs": [],
   "source": [
    "import pickle\n",
    "\n",
    "\n",
    "valid_features, valid_labels = pickle.load(open('preprocess_validation.p', mode='rb'))"
   ]
  },
  {
   "cell_type": "code",
   "execution_count": 7,
   "metadata": {},
   "outputs": [
    {
     "name": "stderr",
     "output_type": "stream",
     "text": [
      "C:\\Users\\user\\Anaconda3\\lib\\site-packages\\h5py\\__init__.py:36: FutureWarning: Conversion of the second argument of issubdtype from `float` to `np.floating` is deprecated. In future, it will be treated as `np.float64 == np.dtype(float).type`.\n",
      "  from ._conv import register_converters as _register_converters\n"
     ]
    }
   ],
   "source": [
    "import tensorflow as tf\n",
    "\n",
    "def neural_net_image_input(image_shape):\n",
    "\n",
    "    return tf.placeholder(tf.float32, [None, image_shape[0], image_shape[1], image_shape[2]], name = 'x')"
   ]
  },
  {
   "cell_type": "code",
   "execution_count": 8,
   "metadata": {},
   "outputs": [
    {
     "data": {
      "text/plain": [
       "<tf.Tensor 'x:0' shape=(?, 32, 32, 3) dtype=float32>"
      ]
     },
     "execution_count": 8,
     "metadata": {},
     "output_type": "execute_result"
    }
   ],
   "source": [
    "neural_net_image_input([32, 32, 3]) "
   ]
  },
  {
   "cell_type": "code",
   "execution_count": 9,
   "metadata": {},
   "outputs": [],
   "source": [
    "def neural_net_label_input(n_classes):\n",
    "\n",
    "    return tf.placeholder(tf.float32, [None, n_classes], name = 'y')"
   ]
  },
  {
   "cell_type": "code",
   "execution_count": 10,
   "metadata": {},
   "outputs": [
    {
     "data": {
      "text/plain": [
       "<tf.Tensor 'y:0' shape=(?, 10) dtype=float32>"
      ]
     },
     "execution_count": 10,
     "metadata": {},
     "output_type": "execute_result"
    }
   ],
   "source": [
    "neural_net_label_input(10) "
   ]
  },
  {
   "cell_type": "code",
   "execution_count": 11,
   "metadata": {},
   "outputs": [],
   "source": [
    "def neural_net_keep_prob_input():\n",
    "\n",
    "    return tf.placeholder(tf.float32, None, name = 'keep_prob')"
   ]
  },
  {
   "cell_type": "code",
   "execution_count": 12,
   "metadata": {},
   "outputs": [],
   "source": [
    "def conv2d_avgpool(x_tensor, conv_num_outputs, conv_ksize, conv_strides, pool_ksize, pool_strides, keep_prob):\n",
    "\n",
    "    weight = tf.Variable(tf.random_normal([conv_ksize[0], conv_ksize[1], x_tensor.get_shape().as_list()[3],conv_num_outputs]))\n",
    "    bias = tf.Variable(tf.random_normal([conv_num_outputs]))\n",
    "    x = tf.nn.conv2d(x_tensor, weight, strides= [1,conv_strides[0],conv_strides[1],1], padding = 'VALID')\n",
    "    x = tf.nn.bias_add(x, bias)\n",
    "    x = tf.nn.dropout(x, keep_prob)\n",
    "    x = tf.nn.avg_pool(x, ksize=[1, pool_ksize[0], pool_ksize[1], 1], strides=[1, pool_strides[0], pool_strides[1], 1], padding='SAME') \n",
    "    x = tf.nn.sigmoid(x)\n",
    "    return x"
   ]
  },
  {
   "cell_type": "code",
   "execution_count": 16,
   "metadata": {},
   "outputs": [
    {
     "data": {
      "text/plain": [
       "<tf.Tensor 'Sigmoid:0' shape=(?, 14, 14, 6) dtype=float32>"
      ]
     },
     "execution_count": 16,
     "metadata": {},
     "output_type": "execute_result"
    }
   ],
   "source": [
    "conv2d_avgpool(tf.placeholder(tf.float32, [None, 32,32,3]), 6, (5,5), (1,1), (2,2), (2,2), 0.8) # 测试"
   ]
  },
  {
   "cell_type": "code",
   "execution_count": 17,
   "metadata": {},
   "outputs": [],
   "source": [
    "import tensorflow.contrib as tfc\n",
    "def flatten(x_tensor):\n",
    "\n",
    "    return tfc.layers.flatten(x_tensor)"
   ]
  },
  {
   "cell_type": "code",
   "execution_count": 18,
   "metadata": {},
   "outputs": [
    {
     "data": {
      "text/plain": [
       "<tf.Tensor 'Flatten/flatten/Reshape:0' shape=(?, 2560) dtype=float32>"
      ]
     },
     "execution_count": 18,
     "metadata": {},
     "output_type": "execute_result"
    }
   ],
   "source": [
    "flatten(tf.placeholder(tf.float32, [None, 16,16,10])) "
   ]
  },
  {
   "cell_type": "code",
   "execution_count": 19,
   "metadata": {},
   "outputs": [],
   "source": [
    "def fully_conn(x_tensor, num_outputs):\n",
    "\n",
    "    return tfc.layers.fully_connected(x_tensor, num_outputs)"
   ]
  },
  {
   "cell_type": "code",
   "execution_count": 20,
   "metadata": {},
   "outputs": [
    {
     "data": {
      "text/plain": [
       "<tf.Tensor 'fully_connected/Relu:0' shape=(?, 120) dtype=float32>"
      ]
     },
     "execution_count": 20,
     "metadata": {},
     "output_type": "execute_result"
    }
   ],
   "source": [
    "fully_conn(tf.placeholder(tf.float32, [None, 2560]), 120) "
   ]
  },
  {
   "cell_type": "code",
   "execution_count": 21,
   "metadata": {},
   "outputs": [],
   "source": [
    "def output(x_tensor, num_outputs):\n",
    "\n",
    "    return tfc.layers.fully_connected(inputs = x_tensor, num_outputs = num_outputs, activation_fn=None)"
   ]
  },
  {
   "cell_type": "code",
   "execution_count": 22,
   "metadata": {},
   "outputs": [
    {
     "data": {
      "text/plain": [
       "<tf.Tensor 'fully_connected_1/BiasAdd:0' shape=(?, 10) dtype=float32>"
      ]
     },
     "execution_count": 22,
     "metadata": {},
     "output_type": "execute_result"
    }
   ],
   "source": [
    "output(tf.placeholder(tf.float32, [None, 120]), 10) "
   ]
  },
  {
   "cell_type": "code",
   "execution_count": 23,
   "metadata": {},
   "outputs": [],
   "source": [
    "def LeNet(x, keep_prob):\n",
    "    # C1 and S2 layer \n",
    "    x = conv2d_avgpool(x, 6, (5,5), (1,1), (2,2), (2,2), keep_prob)\n",
    "    # C3 and S4 layer\n",
    "    x = conv2d_avgpool(x, 16, (5,5), (1,1), (2,2), (2,2), keep_prob)\n",
    "    # C5 layer\n",
    "    weight = tf.Variable(tf.random_normal([5, 5, x.get_shape().as_list()[3],120]))\n",
    "    bias = tf.Variable(tf.random_normal([120]))\n",
    "    x = tf.nn.conv2d(x, weight, strides= [1,5,5,1], padding = 'VALID')\n",
    "    x = tf.nn.bias_add(x, bias)\n",
    "    x = flatten(x)\n",
    "    # F6 layer\n",
    "    x= fully_conn(x, 84)\n",
    "    # ouput layer\n",
    "    x = output(x, 10)\n",
    "\n",
    "    return x"
   ]
  },
  {
   "cell_type": "code",
   "execution_count": 24,
   "metadata": {},
   "outputs": [
    {
     "name": "stdout",
     "output_type": "stream",
     "text": [
      "WARNING:tensorflow:From <ipython-input-24-70c21a4c99c9>:15: softmax_cross_entropy_with_logits (from tensorflow.python.ops.nn_ops) is deprecated and will be removed in a future version.\n",
      "Instructions for updating:\n",
      "\n",
      "Future major versions of TensorFlow will allow gradients to flow\n",
      "into the labels input on backprop by default.\n",
      "\n",
      "See @{tf.nn.softmax_cross_entropy_with_logits_v2}.\n",
      "\n"
     ]
    }
   ],
   "source": [
    "tf.reset_default_graph()\n",
    "\n",
    "\n",
    "x = neural_net_image_input((32, 32, 3))\n",
    "y = neural_net_label_input(10)\n",
    "keep_prob = neural_net_keep_prob_input()\n",
    "\n",
    "\n",
    "logits = LeNet(x, keep_prob)\n",
    "\n",
    "# Name logits Tensor, so that is can be loaded from disk after training\n",
    "logits = tf.identity(logits, name='logits')\n",
    "\n",
    "\n",
    "cost = tf.reduce_mean(tf.nn.softmax_cross_entropy_with_logits(logits=logits, labels=y))\n",
    "optimizer = tf.train.AdamOptimizer().minimize(cost)\n",
    "\n",
    "\n",
    "correct_pred = tf.equal(tf.argmax(logits, 1), tf.argmax(y, 1))\n",
    "accuracy = tf.reduce_mean(tf.cast(correct_pred, tf.float32), name='accuracy')"
   ]
  },
  {
   "cell_type": "code",
   "execution_count": 25,
   "metadata": {},
   "outputs": [],
   "source": [
    "def train_neural_network(session, optimizer, keep_probability, feature_batch, label_batch):\n",
    "\n",
    "    session.run(optimizer, feed_dict={x: feature_batch, y: label_batch, keep_prob: keep_probability})\n",
    "    pass"
   ]
  },
  {
   "cell_type": "code",
   "execution_count": 26,
   "metadata": {},
   "outputs": [],
   "source": [
    "def print_stats(session, feature_batch, label_batch, cost, accuracy):\n",
    "\n",
    "    loss = session.run(cost, feed_dict={x: feature_batch, y: label_batch, keep_prob: 1.})\n",
    "    valid_acc = sess.run(accuracy, feed_dict={x: valid_features, y: valid_labels, keep_prob: 1.})\n",
    "    print(loss)\n",
    "    print(valid_acc)\n",
    "    pass"
   ]
  },
  {
   "cell_type": "code",
   "execution_count": 27,
   "metadata": {},
   "outputs": [
    {
     "name": "stdout",
     "output_type": "stream",
     "text": [
      "Training...\n",
      "Epoch  1, CIFAR-10 Batch 1:  2.4226975\n",
      "0.1394\n",
      "Epoch  1, CIFAR-10 Batch 2:  2.214649\n",
      "0.1918\n",
      "Epoch  1, CIFAR-10 Batch 3:  2.012265\n",
      "0.2236\n",
      "Epoch  1, CIFAR-10 Batch 4:  2.065\n",
      "0.2442\n",
      "Epoch  1, CIFAR-10 Batch 5:  2.1701667\n",
      "0.262\n",
      "Epoch  2, CIFAR-10 Batch 1:  2.2422721\n",
      "0.2646\n",
      "Epoch  2, CIFAR-10 Batch 2:  2.0374207\n",
      "0.2748\n",
      "Epoch  2, CIFAR-10 Batch 3:  1.7499287\n",
      "0.2778\n",
      "Epoch  2, CIFAR-10 Batch 4:  1.9498079\n",
      "0.2774\n",
      "Epoch  2, CIFAR-10 Batch 5:  2.0379622\n",
      "0.293\n",
      "Epoch  3, CIFAR-10 Batch 1:  2.212766\n",
      "0.2912\n",
      "Epoch  3, CIFAR-10 Batch 2:  1.9800183\n",
      "0.2998\n",
      "Epoch  3, CIFAR-10 Batch 3:  1.6644672\n",
      "0.3\n",
      "Epoch  3, CIFAR-10 Batch 4:  1.9044205\n",
      "0.3032\n",
      "Epoch  3, CIFAR-10 Batch 5:  1.9477127\n",
      "0.3128\n",
      "Epoch  4, CIFAR-10 Batch 1:  2.171262\n",
      "0.3126\n",
      "Epoch  4, CIFAR-10 Batch 2:  1.940345\n",
      "0.3156\n",
      "Epoch  4, CIFAR-10 Batch 3:  1.5874417\n",
      "0.3196\n",
      "Epoch  4, CIFAR-10 Batch 4:  1.8319\n",
      "0.3206\n",
      "Epoch  4, CIFAR-10 Batch 5:  1.8846505\n",
      "0.3324\n",
      "Epoch  5, CIFAR-10 Batch 1:  2.0987096\n",
      "0.3306\n",
      "Epoch  5, CIFAR-10 Batch 2:  1.8706944\n",
      "0.3384\n",
      "Epoch  5, CIFAR-10 Batch 3:  1.520483\n",
      "0.3332\n",
      "Epoch  5, CIFAR-10 Batch 4:  1.7974873\n",
      "0.3434\n",
      "Epoch  5, CIFAR-10 Batch 5:  1.8166616\n",
      "0.3498\n",
      "Epoch  6, CIFAR-10 Batch 1:  2.0450861\n",
      "0.3456\n",
      "Epoch  6, CIFAR-10 Batch 2:  1.8381844\n",
      "0.3586\n",
      "Epoch  6, CIFAR-10 Batch 3:  1.4532067\n",
      "0.349\n",
      "Epoch  6, CIFAR-10 Batch 4:  1.7453102\n",
      "0.357\n",
      "Epoch  6, CIFAR-10 Batch 5:  1.7889105\n",
      "0.3614\n",
      "Epoch  7, CIFAR-10 Batch 1:  1.983182\n",
      "0.359\n",
      "Epoch  7, CIFAR-10 Batch 2:  1.778137\n",
      "0.3716\n",
      "Epoch  7, CIFAR-10 Batch 3:  1.4297218\n",
      "0.3578\n",
      "Epoch  7, CIFAR-10 Batch 4:  1.7105734\n",
      "0.378\n",
      "Epoch  7, CIFAR-10 Batch 5:  1.7609398\n",
      "0.3792\n",
      "Epoch  8, CIFAR-10 Batch 1:  1.9239525\n",
      "0.3814\n",
      "Epoch  8, CIFAR-10 Batch 2:  1.7315041\n",
      "0.378\n",
      "Epoch  8, CIFAR-10 Batch 3:  1.3550639\n",
      "0.373\n",
      "Epoch  8, CIFAR-10 Batch 4:  1.693445\n",
      "0.384\n",
      "Epoch  8, CIFAR-10 Batch 5:  1.7295386\n",
      "0.381\n",
      "Epoch  9, CIFAR-10 Batch 1:  1.8539902\n",
      "0.3886\n",
      "Epoch  9, CIFAR-10 Batch 2:  1.717001\n",
      "0.3894\n",
      "Epoch  9, CIFAR-10 Batch 3:  1.3238878\n",
      "0.3832\n",
      "Epoch  9, CIFAR-10 Batch 4:  1.6702017\n",
      "0.3896\n",
      "Epoch  9, CIFAR-10 Batch 5:  1.6914151\n",
      "0.3932\n",
      "Epoch 10, CIFAR-10 Batch 1:  1.8136288\n",
      "0.3942\n",
      "Epoch 10, CIFAR-10 Batch 2:  1.6972857\n",
      "0.3938\n",
      "Epoch 10, CIFAR-10 Batch 3:  1.3082082\n",
      "0.3888\n",
      "Epoch 10, CIFAR-10 Batch 4:  1.6426777\n",
      "0.3944\n",
      "Epoch 10, CIFAR-10 Batch 5:  1.6696129\n",
      "0.4052\n",
      "Epoch 11, CIFAR-10 Batch 1:  1.7832206\n",
      "0.3974\n",
      "Epoch 11, CIFAR-10 Batch 2:  1.6929258\n",
      "0.3964\n",
      "Epoch 11, CIFAR-10 Batch 3:  1.2947464\n",
      "0.3962\n",
      "Epoch 11, CIFAR-10 Batch 4:  1.6103306\n",
      "0.3954\n",
      "Epoch 11, CIFAR-10 Batch 5:  1.6674244\n",
      "0.4138\n",
      "Epoch 12, CIFAR-10 Batch 1:  1.7484566\n",
      "0.4058\n",
      "Epoch 12, CIFAR-10 Batch 2:  1.6628046\n",
      "0.4064\n",
      "Epoch 12, CIFAR-10 Batch 3:  1.2763417\n",
      "0.4056\n",
      "Epoch 12, CIFAR-10 Batch 4:  1.6011913\n",
      "0.395\n",
      "Epoch 12, CIFAR-10 Batch 5:  1.6558632\n",
      "0.4152\n",
      "Epoch 13, CIFAR-10 Batch 1:  1.745498\n",
      "0.4074\n",
      "Epoch 13, CIFAR-10 Batch 2:  1.5717299\n",
      "0.4112\n",
      "Epoch 13, CIFAR-10 Batch 3:  1.2468559\n",
      "0.416\n",
      "Epoch 13, CIFAR-10 Batch 4:  1.5797217\n",
      "0.3958\n",
      "Epoch 13, CIFAR-10 Batch 5:  1.6395378\n",
      "0.4252\n",
      "Epoch 14, CIFAR-10 Batch 1:  1.7464863\n",
      "0.4128\n",
      "Epoch 14, CIFAR-10 Batch 2:  1.5701758\n",
      "0.4174\n",
      "Epoch 14, CIFAR-10 Batch 3:  1.2360115\n",
      "0.4222\n",
      "Epoch 14, CIFAR-10 Batch 4:  1.5507921\n",
      "0.4066\n",
      "Epoch 14, CIFAR-10 Batch 5:  1.6290882\n",
      "0.4316\n",
      "Epoch 15, CIFAR-10 Batch 1:  1.672663\n",
      "0.4182\n",
      "Epoch 15, CIFAR-10 Batch 2:  1.5417986\n",
      "0.4276\n",
      "Epoch 15, CIFAR-10 Batch 3:  1.2067969\n",
      "0.4302\n",
      "Epoch 15, CIFAR-10 Batch 4:  1.4989548\n",
      "0.415\n",
      "Epoch 15, CIFAR-10 Batch 5:  1.615846\n",
      "0.436\n",
      "Epoch 16, CIFAR-10 Batch 1:  1.6709363\n",
      "0.4296\n",
      "Epoch 16, CIFAR-10 Batch 2:  1.4749641\n",
      "0.4306\n",
      "Epoch 16, CIFAR-10 Batch 3:  1.1839094\n",
      "0.4342\n",
      "Epoch 16, CIFAR-10 Batch 4:  1.4738327\n",
      "0.427\n",
      "Epoch 16, CIFAR-10 Batch 5:  1.610831\n",
      "0.4406\n",
      "Epoch 17, CIFAR-10 Batch 1:  1.6796312\n",
      "0.4358\n",
      "Epoch 17, CIFAR-10 Batch 2:  1.4400387\n",
      "0.4424\n",
      "Epoch 17, CIFAR-10 Batch 3:  1.1234086\n",
      "0.4426\n",
      "Epoch 17, CIFAR-10 Batch 4:  1.4429744\n",
      "0.4262\n",
      "Epoch 17, CIFAR-10 Batch 5:  1.6095117\n",
      "0.4394\n",
      "Epoch 18, CIFAR-10 Batch 1:  1.6345317\n",
      "0.437\n",
      "Epoch 18, CIFAR-10 Batch 2:  1.4106598\n",
      "0.4432\n",
      "Epoch 18, CIFAR-10 Batch 3:  1.0896047\n",
      "0.448\n",
      "Epoch 18, CIFAR-10 Batch 4:  1.4262619\n",
      "0.4336\n",
      "Epoch 18, CIFAR-10 Batch 5:  1.5993032\n",
      "0.4454\n",
      "Epoch 19, CIFAR-10 Batch 1:  1.6252384\n",
      "0.4436\n",
      "Epoch 19, CIFAR-10 Batch 2:  1.3719374\n",
      "0.4424\n",
      "Epoch 19, CIFAR-10 Batch 3:  1.067459\n",
      "0.45\n",
      "Epoch 19, CIFAR-10 Batch 4:  1.3967931\n",
      "0.4418\n",
      "Epoch 19, CIFAR-10 Batch 5:  1.544776\n",
      "0.452\n",
      "Epoch 20, CIFAR-10 Batch 1:  1.6239598\n",
      "0.4492\n",
      "Epoch 20, CIFAR-10 Batch 2:  1.3273845\n",
      "0.4498\n",
      "Epoch 20, CIFAR-10 Batch 3:  1.0549806\n",
      "0.4476\n",
      "Epoch 20, CIFAR-10 Batch 4:  1.3697646\n",
      "0.444\n",
      "Epoch 20, CIFAR-10 Batch 5:  1.5222366\n",
      "0.4528\n",
      "Epoch 21, CIFAR-10 Batch 1:  1.6377544\n",
      "0.453\n",
      "Epoch 21, CIFAR-10 Batch 2:  1.3224213\n",
      "0.451\n",
      "Epoch 21, CIFAR-10 Batch 3:  1.0210254\n",
      "0.458\n",
      "Epoch 21, CIFAR-10 Batch 4:  1.3344965\n",
      "0.4556\n",
      "Epoch 21, CIFAR-10 Batch 5:  1.4949236\n",
      "0.4618\n",
      "Epoch 22, CIFAR-10 Batch 1:  1.6069874\n",
      "0.4572\n",
      "Epoch 22, CIFAR-10 Batch 2:  1.3099349\n",
      "0.4564\n",
      "Epoch 22, CIFAR-10 Batch 3:  1.021055\n",
      "0.466\n",
      "Epoch 22, CIFAR-10 Batch 4:  1.3378048\n",
      "0.456\n",
      "Epoch 22, CIFAR-10 Batch 5:  1.489659\n",
      "0.4672\n",
      "Epoch 23, CIFAR-10 Batch 1:  1.6189438\n",
      "0.4622\n",
      "Epoch 23, CIFAR-10 Batch 2:  1.2750428\n",
      "0.4668\n",
      "Epoch 23, CIFAR-10 Batch 3:  0.97628325\n",
      "0.4682\n",
      "Epoch 23, CIFAR-10 Batch 4:  1.3481357\n",
      "0.4578\n",
      "Epoch 23, CIFAR-10 Batch 5:  1.4777753\n",
      "0.4712\n",
      "Epoch 24, CIFAR-10 Batch 1:  1.6112244\n",
      "0.4638\n",
      "Epoch 24, CIFAR-10 Batch 2:  1.2615014\n",
      "0.4656\n",
      "Epoch 24, CIFAR-10 Batch 3:  0.9831108\n",
      "0.464\n",
      "Epoch 24, CIFAR-10 Batch 4:  1.3135697\n",
      "0.4608\n",
      "Epoch 24, CIFAR-10 Batch 5:  1.4750009\n",
      "0.4696\n",
      "Epoch 25, CIFAR-10 Batch 1:  1.5817463\n",
      "0.4628\n",
      "Epoch 25, CIFAR-10 Batch 2:  1.261219\n",
      "0.4678\n",
      "Epoch 25, CIFAR-10 Batch 3:  0.9599317\n",
      "0.4682\n",
      "Epoch 25, CIFAR-10 Batch 4:  1.286554\n",
      "0.4638\n",
      "Epoch 25, CIFAR-10 Batch 5:  1.4468774\n",
      "0.4722\n",
      "Epoch 26, CIFAR-10 Batch 1:  1.5784223\n",
      "0.466\n",
      "Epoch 26, CIFAR-10 Batch 2:  1.2668701\n",
      "0.466\n",
      "Epoch 26, CIFAR-10 Batch 3:  0.9280856\n",
      "0.4746\n",
      "Epoch 26, CIFAR-10 Batch 4:  1.3088717\n",
      "0.467\n",
      "Epoch 26, CIFAR-10 Batch 5:  1.4309067\n",
      "0.4744\n",
      "Epoch 27, CIFAR-10 Batch 1:  1.5613874\n",
      "0.4722\n",
      "Epoch 27, CIFAR-10 Batch 2:  1.2406569\n",
      "0.4702\n",
      "Epoch 27, CIFAR-10 Batch 3:  0.9225954\n",
      "0.4768\n",
      "Epoch 27, CIFAR-10 Batch 4:  1.2786329\n",
      "0.472\n",
      "Epoch 27, CIFAR-10 Batch 5:  1.4159529\n",
      "0.4788\n",
      "Epoch 28, CIFAR-10 Batch 1:  1.5409337\n",
      "0.4772\n",
      "Epoch 28, CIFAR-10 Batch 2:  1.2421656\n",
      "0.474\n",
      "Epoch 28, CIFAR-10 Batch 3:  0.88982046\n",
      "0.4864\n",
      "Epoch 28, CIFAR-10 Batch 4:  1.2801211\n",
      "0.4722\n",
      "Epoch 28, CIFAR-10 Batch 5:  1.4138001\n",
      "0.4808\n",
      "Epoch 29, CIFAR-10 Batch 1:  1.5332812\n",
      "0.472\n",
      "Epoch 29, CIFAR-10 Batch 2:  1.243173\n",
      "0.4796\n",
      "Epoch 29, CIFAR-10 Batch 3:  0.9086304\n",
      "0.482\n",
      "Epoch 29, CIFAR-10 Batch 4:  1.2803261\n",
      "0.4792\n",
      "Epoch 29, CIFAR-10 Batch 5:  1.3930154\n",
      "0.4838\n",
      "Epoch 30, CIFAR-10 Batch 1:  1.5412769\n",
      "0.475\n",
      "Epoch 30, CIFAR-10 Batch 2:  1.2368262\n",
      "0.4814\n",
      "Epoch 30, CIFAR-10 Batch 3:  0.8776577\n",
      "0.4848\n",
      "Epoch 30, CIFAR-10 Batch 4:  1.2493292\n",
      "0.4774\n",
      "Epoch 30, CIFAR-10 Batch 5:  1.3752588\n",
      "0.489\n"
     ]
    }
   ],
   "source": [
    "epochs = 30\n",
    "batch_size = 128\n",
    "keep_probability = 0.9\n",
    "\n",
    "save_model_path = './image_classification'\n",
    "\n",
    "print('Training...')\n",
    "with tf.Session() as sess:\n",
    "    # Initializing the variables\n",
    "    sess.run(tf.global_variables_initializer())\n",
    "    \n",
    "    # Training cycle\n",
    "    for epoch in range(epochs):\n",
    "        # Loop over all batches\n",
    "        n_batches = 5\n",
    "        for batch_i in range(1, n_batches + 1):\n",
    "            for batch_features, batch_labels in helper.load_preprocess_training_batch(batch_i, batch_size):\n",
    "                train_neural_network(sess, optimizer, keep_probability, batch_features, batch_labels)\n",
    "            print('Epoch {:>2}, CIFAR-10 Batch {}:  '.format(epoch + 1, batch_i), end='')\n",
    "            print_stats(sess, batch_features, batch_labels, cost, accuracy)\n",
    "            \n",
    "    # Save Model\n",
    "    saver = tf.train.Saver()\n",
    "    save_path = saver.save(sess, save_model_path)"
   ]
  },
  {
   "cell_type": "code",
   "execution_count": 28,
   "metadata": {},
   "outputs": [
    {
     "name": "stdout",
     "output_type": "stream",
     "text": [
      "INFO:tensorflow:Restoring parameters from ./image_classification\n",
      "Testing Accuracy: 0.48783623417721517\n",
      "\n"
     ]
    },
    {
     "data": {
      "image/png": "[encoded data removed]",
      "text/plain": [
       "<Figure size 432x288 with 8 Axes>"
      ]
     },
     "metadata": {
      "image/png": {
       "height": 319,
       "width": 355
      }
     },
     "output_type": "display_data"
    }
   ],
   "source": [
    "%matplotlib inline\n",
    "%config InlineBackend.figure_format = 'retina'\n",
    "\n",
    "import tensorflow as tf\n",
    "import pickle\n",
    "import helper\n",
    "import random\n",
    "\n",
    "try:\n",
    "    if batch_size:\n",
    "        pass\n",
    "except NameError:\n",
    "    batch_size = 64\n",
    "\n",
    "save_model_path = './image_classification'\n",
    "n_samples = 4\n",
    "top_n_predictions = 3\n",
    "\n",
    "def test_model():\n",
    "    test_features, test_labels = pickle.load(open('preprocess_training.p', mode='rb'))\n",
    "    loaded_graph = tf.Graph()\n",
    "\n",
    "    with tf.Session(graph=loaded_graph) as sess:\n",
    "        # Load model\n",
    "        loader = tf.train.import_meta_graph(save_model_path + '.meta')\n",
    "        loader.restore(sess, save_model_path)\n",
    "\n",
    "        # Get Tensors from loaded model\n",
    "        loaded_x = loaded_graph.get_tensor_by_name('x:0')\n",
    "        loaded_y = loaded_graph.get_tensor_by_name('y:0')\n",
    "        loaded_keep_prob = loaded_graph.get_tensor_by_name('keep_prob:0')\n",
    "        loaded_logits = loaded_graph.get_tensor_by_name('logits:0')\n",
    "        loaded_acc = loaded_graph.get_tensor_by_name('accuracy:0')\n",
    "        \n",
    "        # Get accuracy in batches for memory limitations\n",
    "        test_batch_acc_total = 0\n",
    "        test_batch_count = 0\n",
    "        \n",
    "        for train_feature_batch, train_label_batch in helper.batch_features_labels(test_features, test_labels, batch_size):\n",
    "            test_batch_acc_total += sess.run(\n",
    "                loaded_acc,\n",
    "                feed_dict={loaded_x: train_feature_batch, loaded_y: train_label_batch, loaded_keep_prob: 1.0})\n",
    "            test_batch_count += 1\n",
    "\n",
    "        print('Testing Accuracy: {}\\n'.format(test_batch_acc_total/test_batch_count))\n",
    "\n",
    "        # Print Random Samples\n",
    "        random_test_features, random_test_labels = tuple(zip(*random.sample(list(zip(test_features, test_labels)), n_samples)))\n",
    "        random_test_predictions = sess.run(\n",
    "            tf.nn.top_k(tf.nn.softmax(loaded_logits), top_n_predictions),\n",
    "            feed_dict={loaded_x: random_test_features, loaded_y: random_test_labels, loaded_keep_prob: 1.0})\n",
    "        helper.display_image_predictions(random_test_features, random_test_labels, random_test_predictions)\n",
    "\n",
    "\n",
    "test_model()"
   ]
  },
  {
   "cell_type": "code",
   "execution_count": null,
   "metadata": {},
   "outputs": [],
   "source": []
  }
 ],
 "metadata": {
  "kernelspec": {
   "display_name": "Python 3",
   "language": "python",
   "name": "python3"
  },
  "language_info": {
   "codemirror_mode": {
    "name": "ipython",
    "version": 3
   },
   "file_extension": ".py",
   "mimetype": "text/x-python",
   "name": "python",
   "nbconvert_exporter": "python",
   "pygments_lexer": "ipython3",
   "version": "3.6.5"
  }
 },
 "nbformat": 4,
 "nbformat_minor": 2
}
