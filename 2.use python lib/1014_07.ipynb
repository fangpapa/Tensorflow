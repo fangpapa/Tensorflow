{
 "cells": [
  {
   "cell_type": "code",
   "execution_count": 3,
   "metadata": {},
   "outputs": [
    {
     "name": "stdout",
     "output_type": "stream",
     "text": [
      "      name  gender   math  english  chinese\n",
      "0      Ada  Female  66.20    77.00    64.00\n",
      "1    Buddy    Male  44.00    67.00    78.00\n",
      "2    Candy  Female  67.00    46.50    60.30\n",
      "3    David    Male  33.00    67.23    80.00\n",
      "4    Emily  Female  56.23    56.00    78.00\n",
      "5     Feng  Female  44.56    87.34    67.50\n",
      "6   George    Male  77.30    56.00    33.40\n",
      "7    Henry    Male  80.00    66.44    56.70\n",
      "8     Iris  Female  60.50    50.00    46.76\n",
      "9    Jimmy    Male  56.45    67.00    45.56\n",
      "10   Keley  Female  58.00    45.34    89.00\n",
      "11    Leon    Male  70.23    90.00    88.00\n",
      "            math    english    chinese\n",
      "count  12.000000  12.000000  12.000000\n",
      "mean   59.455833  64.654167  65.601667\n",
      "std    13.955411  14.763137  17.763745\n",
      "min    33.000000  45.340000  33.400000\n",
      "25%    53.312500  54.500000  54.215000\n",
      "50%    59.250000  66.720000  65.750000\n",
      "75%    67.807500  69.672500  78.500000\n",
      "max    80.000000  90.000000  89.000000\n"
     ]
    },
    {
     "data": {
      "image/png": "[encoded data removed]",
      "text/plain": [
       "<Figure size 432x288 with 1 Axes>"
      ]
     },
     "metadata": {
      "needs_background": "light"
     },
     "output_type": "display_data"
    }
   ],
   "source": [
    "import csv\n",
    "import pandas as pd\n",
    "import matplotlib.pyplot as plt\n",
    "df=pd.DataFrame(pd.read_csv('data.csv'))\n",
    "print(df)\n",
    "#print(df.info)\n",
    "print(df.describe())\n",
    "a=(df['math']).sum()\n",
    "b=(df['math']).mean()\n",
    "c=(df['math']).max()\n",
    "d=(df['math']).min()\n",
    "e=df['math']>80\n",
    "plt.hist(df['math'],alpha=0.3,label='math')\n",
    "plt.hist(df['english'],alpha=0.3,label='english')\n",
    "plt.hist(df['chinese'],alpha=0.3,label='chinese')\n",
    "plt.title('Scorce Data')\n",
    "plt.xlabel('Item')\n",
    "plt.ylabel('data')\n",
    "plt.legend(loc='upper left')\n",
    "fig=plt.gcf()\n",
    "plt.show()\n",
    "fig.savefig('b.png',dip=100)"
   ]
  }
 ],
 "metadata": {
  "kernelspec": {
   "display_name": "Python 3",
   "language": "python",
   "name": "python3"
  },
  "language_info": {
   "codemirror_mode": {
    "name": "ipython",
    "version": 3
   },
   "file_extension": ".py",
   "mimetype": "text/x-python",
   "name": "python",
   "nbconvert_exporter": "python",
   "pygments_lexer": "ipython3",
   "version": "3.7.0"
  }
 },
 "nbformat": 4,
 "nbformat_minor": 2
}
