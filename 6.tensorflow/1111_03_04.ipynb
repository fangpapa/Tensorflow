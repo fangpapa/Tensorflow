{
 "cells": [
  {
   "cell_type": "code",
   "execution_count": 1,
   "metadata": {},
   "outputs": [],
   "source": [
    "import tensorflow as tf"
   ]
  },
  {
   "cell_type": "code",
   "execution_count": 3,
   "metadata": {},
   "outputs": [],
   "source": [
    "ts_c = tf.constant(2, name='ts_c')"
   ]
  },
  {
   "cell_type": "code",
   "execution_count": 4,
   "metadata": {},
   "outputs": [
    {
     "data": {
      "text/plain": [
       "<tf.Tensor 'ts_c:0' shape=() dtype=int32>"
      ]
     },
     "execution_count": 4,
     "metadata": {},
     "output_type": "execute_result"
    }
   ],
   "source": [
    "ts_c"
   ]
  },
  {
   "cell_type": "code",
   "execution_count": 5,
   "metadata": {},
   "outputs": [],
   "source": [
    "ts_x = tf.Variable(ts_c + 5, name = 'ts_x')"
   ]
  },
  {
   "cell_type": "code",
   "execution_count": 6,
   "metadata": {},
   "outputs": [
    {
     "data": {
      "text/plain": [
       "<tf.Variable 'ts_x:0' shape=() dtype=int32_ref>"
      ]
     },
     "execution_count": 6,
     "metadata": {},
     "output_type": "execute_result"
    }
   ],
   "source": [
    "ts_x"
   ]
  },
  {
   "cell_type": "code",
   "execution_count": 7,
   "metadata": {},
   "outputs": [],
   "source": [
    "sess = tf.Session()"
   ]
  },
  {
   "cell_type": "code",
   "execution_count": 8,
   "metadata": {},
   "outputs": [],
   "source": [
    "init = tf.global_variables_initializer()\n",
    "sess.run(init)"
   ]
  },
  {
   "cell_type": "code",
   "execution_count": 9,
   "metadata": {},
   "outputs": [
    {
     "name": "stdout",
     "output_type": "stream",
     "text": [
      "ts_c= 2\n"
     ]
    }
   ],
   "source": [
    "print('ts_c=', sess.run(ts_c))"
   ]
  },
  {
   "cell_type": "code",
   "execution_count": 10,
   "metadata": {},
   "outputs": [
    {
     "name": "stdout",
     "output_type": "stream",
     "text": [
      "ts_x= 7\n"
     ]
    }
   ],
   "source": [
    "print('ts_x=', sess.run(ts_x))"
   ]
  },
  {
   "cell_type": "code",
   "execution_count": 11,
   "metadata": {},
   "outputs": [
    {
     "name": "stdout",
     "output_type": "stream",
     "text": [
      "ts_c= 2\n"
     ]
    }
   ],
   "source": [
    "print('ts_c=', ts_c.eval(session=sess))"
   ]
  },
  {
   "cell_type": "code",
   "execution_count": 12,
   "metadata": {},
   "outputs": [
    {
     "name": "stdout",
     "output_type": "stream",
     "text": [
      "ts_x= 7\n"
     ]
    }
   ],
   "source": [
    "print('ts_x=', ts_x.eval(session=sess))"
   ]
  },
  {
   "cell_type": "code",
   "execution_count": 13,
   "metadata": {},
   "outputs": [],
   "source": [
    "sess.close()"
   ]
  },
  {
   "cell_type": "code",
   "execution_count": 15,
   "metadata": {},
   "outputs": [
    {
     "name": "stdout",
     "output_type": "stream",
     "text": [
      "ts_c= 2\n",
      "ts_x= 7\n"
     ]
    }
   ],
   "source": [
    "import tensorflow as tf\n",
    "ts_c = tf.constant(2, name='ts_c')\n",
    "ts_x = tf.Variable(ts_c + 5, name='ts_x')\n",
    "\n",
    "sess = tf.Session()\n",
    "init = tf.global_variables_initializer()\n",
    "sess.run(init)\n",
    "print('ts_c=', sess.run(ts_c))\n",
    "print('ts_x=', sess.run(ts_x))\n",
    "sess.close()"
   ]
  },
  {
   "cell_type": "code",
   "execution_count": 17,
   "metadata": {},
   "outputs": [
    {
     "name": "stdout",
     "output_type": "stream",
     "text": [
      "ts_c= 2\n",
      "ts_x= 7\n"
     ]
    }
   ],
   "source": [
    "import tensorflow as tf\n",
    "ts_c = tf.constant(2, name='ts_c')\n",
    "ts_x = tf.Variable(ts_c + 5, name='ts_x')\n",
    "\n",
    "with tf.Session() as sess:\n",
    "    init = tf.global_variables_initializer()\n",
    "    sess.run(init)\n",
    "    print('ts_c=', sess.run(ts_c))\n",
    "    print('ts_x=', sess.run(ts_x))"
   ]
  },
  {
   "cell_type": "code",
   "execution_count": 18,
   "metadata": {},
   "outputs": [],
   "source": [
    "width = tf.placeholder(\"int32\")\n",
    "height = tf.placeholder(\"int32\")\n",
    "area = tf.multiply(width, height)"
   ]
  },
  {
   "cell_type": "code",
   "execution_count": 19,
   "metadata": {},
   "outputs": [
    {
     "name": "stdout",
     "output_type": "stream",
     "text": [
      "area= 48\n"
     ]
    }
   ],
   "source": [
    "with tf.Session() as sess:\n",
    "    init = tf.global_variables_initializer()\n",
    "    sess.run(init)\n",
    "    print('area=', sess.run(area, feed_dict={width:6, height:8}))"
   ]
  },
  {
   "cell_type": "code",
   "execution_count": 20,
   "metadata": {},
   "outputs": [
    {
     "name": "stdout",
     "output_type": "stream",
     "text": [
      "[0.4 0.2 0.4]\n"
     ]
    }
   ],
   "source": [
    "ts_X = tf.Variable([0.4,0.2,0.4])\n",
    "with tf.Session() as sess:\n",
    "    init = tf.global_variables_initializer()\n",
    "    sess.run(init)\n",
    "    X = sess.run(ts_X)\n",
    "    print(X)"
   ]
  },
  {
   "cell_type": "code",
   "execution_count": 21,
   "metadata": {},
   "outputs": [
    {
     "name": "stdout",
     "output_type": "stream",
     "text": [
      "(3,)\n"
     ]
    }
   ],
   "source": [
    "print(X.shape)"
   ]
  },
  {
   "cell_type": "code",
   "execution_count": 22,
   "metadata": {},
   "outputs": [
    {
     "name": "stdout",
     "output_type": "stream",
     "text": [
      "[[0.4 0.2 0.4]]\n"
     ]
    }
   ],
   "source": [
    "ts_X = tf.Variable([[0.4,0.2,0.4]])\n",
    "with tf.Session() as sess:\n",
    "    init = tf.global_variables_initializer()\n",
    "    sess.run(init)\n",
    "    X = sess.run(ts_X)\n",
    "    print(X)"
   ]
  },
  {
   "cell_type": "code",
   "execution_count": 23,
   "metadata": {},
   "outputs": [
    {
     "name": "stdout",
     "output_type": "stream",
     "text": [
      "(1, 3)\n"
     ]
    }
   ],
   "source": [
    "print(X.shape)"
   ]
  },
  {
   "cell_type": "code",
   "execution_count": 25,
   "metadata": {},
   "outputs": [
    {
     "name": "stdout",
     "output_type": "stream",
     "text": [
      "[[-0.5 -0.2]\n",
      " [-0.3  0.4]\n",
      " [-0.5  0.2]]\n"
     ]
    }
   ],
   "source": [
    "W = tf.Variable([[-0.5,-0.2],\n",
    "                 [-0.3, 0.4],\n",
    "                 [-0.5, 0.2]])\n",
    "\n",
    "with tf.Session() as sess:\n",
    "    init = tf.global_variables_initializer()\n",
    "    sess.run(init)\n",
    "    W_array = sess.run(W)\n",
    "    print(W_array)"
   ]
  },
  {
   "cell_type": "code",
   "execution_count": 26,
   "metadata": {},
   "outputs": [
    {
     "name": "stdout",
     "output_type": "stream",
     "text": [
      "(3, 2)\n"
     ]
    }
   ],
   "source": [
    "print(W_array.shape)"
   ]
  },
  {
   "cell_type": "code",
   "execution_count": 28,
   "metadata": {},
   "outputs": [
    {
     "name": "stdout",
     "output_type": "stream",
     "text": [
      "[[-1.3  0.4]]\n"
     ]
    }
   ],
   "source": [
    "X = tf.Variable([[1.,1.,1.]])\n",
    "W = tf.Variable([[-0.5,-0.2],\n",
    "                 [-0.3, 0.4],\n",
    "                 [-0.5, 0.2]])\n",
    "\n",
    "XW = tf.matmul(X, W)\n",
    "with tf.Session() as sess:\n",
    "    init = tf.global_variables_initializer()\n",
    "    sess.run(init)\n",
    "    print(sess.run(XW))"
   ]
  },
  {
   "cell_type": "code",
   "execution_count": 29,
   "metadata": {},
   "outputs": [
    {
     "name": "stdout",
     "output_type": "stream",
     "text": [
      "Sum: [[-1.1999999  0.6      ]]\n"
     ]
    }
   ],
   "source": [
    "b =  tf.Variable([[ 0.1,0.2]])\n",
    "XW = tf.Variable([[-1.3,0.4]])\n",
    "\n",
    "Sum = XW + b\n",
    "with tf.Session() as sess:\n",
    "    init = tf.global_variables_initializer()\n",
    "    sess.run(init)\n",
    "    print('Sum:', sess.run(Sum))"
   ]
  },
  {
   "cell_type": "code",
   "execution_count": 30,
   "metadata": {},
   "outputs": [
    {
     "name": "stdout",
     "output_type": "stream",
     "text": [
      "XWb: [[-1.1999999  0.6      ]]\n"
     ]
    }
   ],
   "source": [
    "X = tf.Variable([[1.,1.,1.]])\n",
    "W = tf.Variable([[-0.5,-0.2],\n",
    "                 [-0.3, 0.4],\n",
    "                 [-0.5, 0.2]])\n",
    "b =  tf.Variable([[ 0.1,0.2]])\n",
    "\n",
    "XWb = tf.matmul(X, W) + b\n",
    "with tf.Session() as sess:\n",
    "    init = tf.global_variables_initializer()\n",
    "    sess.run(init)\n",
    "    print('XWb:', sess.run(XWb))"
   ]
  },
  {
   "cell_type": "code",
   "execution_count": null,
   "metadata": {},
   "outputs": [],
   "source": []
  },
  {
   "cell_type": "code",
   "execution_count": 31,
   "metadata": {},
   "outputs": [],
   "source": [
    "%matplotlib inline\n",
    "import tensorflow as tf\n",
    "import numpy as np\n",
    "import matplotlib.pylab as plt"
   ]
  },
  {
   "cell_type": "code",
   "execution_count": 34,
   "metadata": {},
   "outputs": [
    {
     "data": {
      "text/plain": [
       "<matplotlib.legend.Legend at 0x235d2a11cc0>"
      ]
     },
     "execution_count": 34,
     "metadata": {},
     "output_type": "execute_result"
    },
    {
     "data": {
      "image/png": "[encoded data removed]",
      "text/plain": [
       "<Figure size 576x432 with 4 Axes>"
      ]
     },
     "metadata": {
      "needs_background": "light"
     },
     "output_type": "display_data"
    }
   ],
   "source": [
    "x = np.linspace(-5, 5, 200)\n",
    "y_relu = tf.nn.relu(x)\n",
    "y_sigmod = tf.nn.sigmoid(x)\n",
    "y_tanh = tf.nn.tanh(x)\n",
    "y_softplus = tf.nn.softplus(x)\n",
    "\n",
    "sess = tf.Session()\n",
    "y_relu, y_sigmod, y_tanh, y_softplus = sess.run([y_relu, y_sigmod, y_tanh, y_softplus])\n",
    "\n",
    "plt.figure(1, figsize=(8, 6))\n",
    "\n",
    "plt.subplot(221)\n",
    "plt.plot(x, y_relu, c = 'red', label = 'y_relu')\n",
    "plt.ylim(-1, 5)\n",
    "plt.legend(loc = 'best')\n",
    "\n",
    "plt.subplot(222)\n",
    "plt.plot(x, y_sigmod, c = 'b', label = 'y_sigmod')\n",
    "plt.ylim(-1, 5)\n",
    "plt.legend(loc = 'best')\n",
    "\n",
    "plt.subplot(223)\n",
    "plt.plot(x, y_tanh, c = 'b', label = 'y_tanh')\n",
    "plt.ylim(-1, 5)\n",
    "plt.legend(loc = 'best')\n",
    "\n",
    "plt.subplot(224)\n",
    "plt.plot(x, y_softplus, c = 'c', label = 'y_softplus')\n",
    "plt.ylim(-1, 5)\n",
    "plt.legend(loc = 'best')"
   ]
  },
  {
   "cell_type": "code",
   "execution_count": 35,
   "metadata": {},
   "outputs": [
    {
     "data": {
      "text/plain": [
       "array([-5.        , -4.94974874, -4.89949749, -4.84924623, -4.79899497,\n",
       "       -4.74874372, -4.69849246, -4.64824121, -4.59798995, -4.54773869,\n",
       "       -4.49748744, -4.44723618, -4.39698492, -4.34673367, -4.29648241,\n",
       "       -4.24623116, -4.1959799 , -4.14572864, -4.09547739, -4.04522613,\n",
       "       -3.99497487, -3.94472362, -3.89447236, -3.84422111, -3.79396985,\n",
       "       -3.74371859, -3.69346734, -3.64321608, -3.59296482, -3.54271357,\n",
       "       -3.49246231, -3.44221106, -3.3919598 , -3.34170854, -3.29145729,\n",
       "       -3.24120603, -3.19095477, -3.14070352, -3.09045226, -3.04020101,\n",
       "       -2.98994975, -2.93969849, -2.88944724, -2.83919598, -2.78894472,\n",
       "       -2.73869347, -2.68844221, -2.63819095, -2.5879397 , -2.53768844,\n",
       "       -2.48743719, -2.43718593, -2.38693467, -2.33668342, -2.28643216,\n",
       "       -2.2361809 , -2.18592965, -2.13567839, -2.08542714, -2.03517588,\n",
       "       -1.98492462, -1.93467337, -1.88442211, -1.83417085, -1.7839196 ,\n",
       "       -1.73366834, -1.68341709, -1.63316583, -1.58291457, -1.53266332,\n",
       "       -1.48241206, -1.4321608 , -1.38190955, -1.33165829, -1.28140704,\n",
       "       -1.23115578, -1.18090452, -1.13065327, -1.08040201, -1.03015075,\n",
       "       -0.9798995 , -0.92964824, -0.87939698, -0.82914573, -0.77889447,\n",
       "       -0.72864322, -0.67839196, -0.6281407 , -0.57788945, -0.52763819,\n",
       "       -0.47738693, -0.42713568, -0.37688442, -0.32663317, -0.27638191,\n",
       "       -0.22613065, -0.1758794 , -0.12562814, -0.07537688, -0.02512563,\n",
       "        0.02512563,  0.07537688,  0.12562814,  0.1758794 ,  0.22613065,\n",
       "        0.27638191,  0.32663317,  0.37688442,  0.42713568,  0.47738693,\n",
       "        0.52763819,  0.57788945,  0.6281407 ,  0.67839196,  0.72864322,\n",
       "        0.77889447,  0.82914573,  0.87939698,  0.92964824,  0.9798995 ,\n",
       "        1.03015075,  1.08040201,  1.13065327,  1.18090452,  1.23115578,\n",
       "        1.28140704,  1.33165829,  1.38190955,  1.4321608 ,  1.48241206,\n",
       "        1.53266332,  1.58291457,  1.63316583,  1.68341709,  1.73366834,\n",
       "        1.7839196 ,  1.83417085,  1.88442211,  1.93467337,  1.98492462,\n",
       "        2.03517588,  2.08542714,  2.13567839,  2.18592965,  2.2361809 ,\n",
       "        2.28643216,  2.33668342,  2.38693467,  2.43718593,  2.48743719,\n",
       "        2.53768844,  2.5879397 ,  2.63819095,  2.68844221,  2.73869347,\n",
       "        2.78894472,  2.83919598,  2.88944724,  2.93969849,  2.98994975,\n",
       "        3.04020101,  3.09045226,  3.14070352,  3.19095477,  3.24120603,\n",
       "        3.29145729,  3.34170854,  3.3919598 ,  3.44221106,  3.49246231,\n",
       "        3.54271357,  3.59296482,  3.64321608,  3.69346734,  3.74371859,\n",
       "        3.79396985,  3.84422111,  3.89447236,  3.94472362,  3.99497487,\n",
       "        4.04522613,  4.09547739,  4.14572864,  4.1959799 ,  4.24623116,\n",
       "        4.29648241,  4.34673367,  4.39698492,  4.44723618,  4.49748744,\n",
       "        4.54773869,  4.59798995,  4.64824121,  4.69849246,  4.74874372,\n",
       "        4.79899497,  4.84924623,  4.89949749,  4.94974874,  5.        ])"
      ]
     },
     "execution_count": 35,
     "metadata": {},
     "output_type": "execute_result"
    }
   ],
   "source": [
    "np.linspace(-5, 5, 200)"
   ]
  },
  {
   "cell_type": "code",
   "execution_count": null,
   "metadata": {},
   "outputs": [],
   "source": []
  }
 ],
 "metadata": {
  "kernelspec": {
   "display_name": "Python 3",
   "language": "python",
   "name": "python3"
  },
  "language_info": {
   "codemirror_mode": {
    "name": "ipython",
    "version": 3
   },
   "file_extension": ".py",
   "mimetype": "text/x-python",
   "name": "python",
   "nbconvert_exporter": "python",
   "pygments_lexer": "ipython3",
   "version": "3.6.6"
  }
 },
 "nbformat": 4,
 "nbformat_minor": 2
}
