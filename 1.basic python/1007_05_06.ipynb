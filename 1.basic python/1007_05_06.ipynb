{
 "cells": [
  {
   "cell_type": "code",
   "execution_count": 1,
   "metadata": {},
   "outputs": [
    {
     "data": {
      "text/plain": [
       "[1, 2, 3, 4, 5]"
      ]
     },
     "execution_count": 1,
     "metadata": {},
     "output_type": "execute_result"
    }
   ],
   "source": [
    "number_list=[number for number in range(1,6)]\n",
    "number_list"
   ]
  },
  {
   "cell_type": "code",
   "execution_count": 2,
   "metadata": {},
   "outputs": [
    {
     "data": {
      "text/plain": [
       "[0, 1, 2, 3, 4]"
      ]
     },
     "execution_count": 2,
     "metadata": {},
     "output_type": "execute_result"
    }
   ],
   "source": [
    "number_list=[number-1 for number in range(1,6)]\n",
    "number_list"
   ]
  },
  {
   "cell_type": "code",
   "execution_count": 3,
   "metadata": {},
   "outputs": [
    {
     "data": {
      "text/plain": [
       "[1, 3, 5]"
      ]
     },
     "execution_count": 3,
     "metadata": {},
     "output_type": "execute_result"
    }
   ],
   "source": [
    "a_list=[number for number in range(1,6) if number%2==1]\n",
    "a_list"
   ]
  },
  {
   "cell_type": "code",
   "execution_count": 4,
   "metadata": {},
   "outputs": [
    {
     "data": {
      "text/plain": [
       "[1, 3, 5]"
      ]
     },
     "execution_count": 4,
     "metadata": {},
     "output_type": "execute_result"
    }
   ],
   "source": [
    "a_list=[]\n",
    "for number in range(1,6):\n",
    "    if number %2==1:\n",
    "        a_list.append(number)\n",
    "a_list"
   ]
  },
  {
   "cell_type": "code",
   "execution_count": 5,
   "metadata": {},
   "outputs": [
    {
     "name": "stdout",
     "output_type": "stream",
     "text": [
      "1 1\n",
      "1 2\n",
      "2 1\n",
      "2 2\n",
      "3 1\n",
      "3 2\n"
     ]
    }
   ],
   "source": [
    "rows=range(1,4)\n",
    "cols=range(1,3)\n",
    "for row in rows:\n",
    "    for col in cols:\n",
    "        print(row,col)"
   ]
  },
  {
   "cell_type": "code",
   "execution_count": 6,
   "metadata": {},
   "outputs": [
    {
     "name": "stdout",
     "output_type": "stream",
     "text": [
      "(1, 1)\n",
      "(1, 2)\n",
      "(2, 1)\n",
      "(2, 2)\n",
      "(3, 1)\n",
      "(3, 2)\n"
     ]
    }
   ],
   "source": [
    "rows=range(1,4)\n",
    "cols=range(1,3)\n",
    "cells=[(row,col) for row in rows for col in cols]\n",
    "for cell in cells:\n",
    "    print(cell)"
   ]
  },
  {
   "cell_type": "code",
   "execution_count": 7,
   "metadata": {},
   "outputs": [
    {
     "name": "stdout",
     "output_type": "stream",
     "text": [
      "1 1\n",
      "1 2\n",
      "2 1\n",
      "2 2\n",
      "3 1\n",
      "3 2\n"
     ]
    }
   ],
   "source": [
    "rows=range(1,4)\n",
    "cols=range(1,3)\n",
    "cells=[(row,col) for row in rows for col in cols]\n",
    "for row,col in cells:\n",
    "    print(row,col)"
   ]
  },
  {
   "cell_type": "code",
   "execution_count": 9,
   "metadata": {},
   "outputs": [
    {
     "name": "stdout",
     "output_type": "stream",
     "text": [
      "l\n",
      "t\n",
      "s\n",
      "e\n",
      "r\n"
     ]
    }
   ],
   "source": [
    "word='letters'\n",
    "for letter in set(word):\n",
    "    print(letter)"
   ]
  },
  {
   "cell_type": "code",
   "execution_count": 10,
   "metadata": {},
   "outputs": [
    {
     "data": {
      "text/plain": [
       "{'l': 1, 't': 2, 's': 1, 'e': 2, 'r': 1}"
      ]
     },
     "execution_count": 10,
     "metadata": {},
     "output_type": "execute_result"
    }
   ],
   "source": [
    "word='letters'\n",
    "letter_counts={letter: word.count(letter) for letter in set(word)}\n",
    "letter_counts"
   ]
  },
  {
   "cell_type": "code",
   "execution_count": 11,
   "metadata": {},
   "outputs": [
    {
     "data": {
      "text/plain": [
       "{1, 4}"
      ]
     },
     "execution_count": 11,
     "metadata": {},
     "output_type": "execute_result"
    }
   ],
   "source": [
    "a_set={number for number in range(1,6) if number %3==1}\n",
    "a_set"
   ]
  },
  {
   "cell_type": "code",
   "execution_count": 12,
   "metadata": {},
   "outputs": [],
   "source": [
    "def do_nothing():\n",
    "    pass\n",
    "do_nothing()"
   ]
  },
  {
   "cell_type": "code",
   "execution_count": 13,
   "metadata": {},
   "outputs": [
    {
     "name": "stdout",
     "output_type": "stream",
     "text": [
      "quack\n"
     ]
    }
   ],
   "source": [
    "def make_a_sound():\n",
    "    print('quack')\n",
    "make_a_sound()"
   ]
  },
  {
   "cell_type": "code",
   "execution_count": 14,
   "metadata": {},
   "outputs": [
    {
     "data": {
      "text/plain": [
       "True"
      ]
     },
     "execution_count": 14,
     "metadata": {},
     "output_type": "execute_result"
    }
   ],
   "source": [
    "def agree():\n",
    "    return True\n",
    "agree()"
   ]
  },
  {
   "cell_type": "code",
   "execution_count": 15,
   "metadata": {},
   "outputs": [
    {
     "name": "stdout",
     "output_type": "stream",
     "text": [
      "OK\n"
     ]
    },
    {
     "data": {
      "text/plain": [
       "True"
      ]
     },
     "execution_count": 15,
     "metadata": {},
     "output_type": "execute_result"
    }
   ],
   "source": [
    "if agree():\n",
    "    print('OK')\n",
    "else:\n",
    "    print('NO')\n",
    "agree()"
   ]
  },
  {
   "cell_type": "code",
   "execution_count": 16,
   "metadata": {},
   "outputs": [
    {
     "data": {
      "text/plain": [
       "'Apple'"
      ]
     },
     "execution_count": 16,
     "metadata": {},
     "output_type": "execute_result"
    }
   ],
   "source": [
    "def echo(anything):\n",
    "    return anything\n",
    "echo('Apple')"
   ]
  },
  {
   "cell_type": "code",
   "execution_count": 17,
   "metadata": {},
   "outputs": [
    {
     "name": "stdout",
     "output_type": "stream",
     "text": [
      "I've never heard of the Blue color\n"
     ]
    }
   ],
   "source": [
    "def AA(color):\n",
    "    if color=='red':\n",
    "        return \"It's a tomato\"\n",
    "    elif color=='green':\n",
    "        return \"It's a green pepper\"\n",
    "    elif color=='bee purple':\n",
    "        return \"I don't know what it is, but only bees can see it\"\n",
    "    else:\n",
    "        return \"I've never heard of the \" + color + \" color\"\n",
    "AnsAA=AA('Blue')\n",
    "print(AnsAA)"
   ]
  },
  {
   "cell_type": "code",
   "execution_count": 18,
   "metadata": {},
   "outputs": [
    {
     "data": {
      "text/plain": [
       "{'wine': 'A', 'entree': 'B', 'dessert': 'C'}"
      ]
     },
     "execution_count": 18,
     "metadata": {},
     "output_type": "execute_result"
    }
   ],
   "source": [
    "def menu(wine,entree,dessert):\n",
    "    return {'wine':wine,'entree':entree,'dessert':dessert}\n",
    "menu('A','B','C')"
   ]
  },
  {
   "cell_type": "code",
   "execution_count": 25,
   "metadata": {},
   "outputs": [
    {
     "data": {
      "text/plain": [
       "{'wine': 'A1', 'entree': 'B1', 'dessert': 'C1'}"
      ]
     },
     "execution_count": 25,
     "metadata": {},
     "output_type": "execute_result"
    }
   ],
   "source": [
    "def menu03(wine,entree,dessert='C1'):\n",
    "    return {'wine':wine,'entree':entree,'dessert':dessert}\n",
    "menu03('A1','B1')"
   ]
  },
  {
   "cell_type": "code",
   "execution_count": 24,
   "metadata": {},
   "outputs": [
    {
     "data": {
      "text/plain": [
       "{'wine': 'A1', 'entree': 'B1', 'dessert': 'C2'}"
      ]
     },
     "execution_count": 24,
     "metadata": {},
     "output_type": "execute_result"
    }
   ],
   "source": [
    "def menu03(wine,entree,dessert='C1'):\n",
    "    return {'wine':wine,'entree':entree,'dessert':dessert}\n",
    "menu03('A1','B1','C2')"
   ]
  },
  {
   "cell_type": "code",
   "execution_count": 20,
   "metadata": {},
   "outputs": [
    {
     "name": "stdout",
     "output_type": "stream",
     "text": [
      "Positional argument tuple: (3, 2, 1, 'wait!', 'un...')\n"
     ]
    }
   ],
   "source": [
    "def print_args(*args):\n",
    "    print('Positional argument tuple:',args)\n",
    "print_args(3,2,1,'wait!','un...')"
   ]
  },
  {
   "cell_type": "code",
   "execution_count": 21,
   "metadata": {},
   "outputs": [
    {
     "name": "stdout",
     "output_type": "stream",
     "text": [
      "r1 1\n",
      "r2 2\n",
      "all (3, 4, 5, 6, 7, 8, 9, 10)\n"
     ]
    }
   ],
   "source": [
    "def print_more(r1,r2,*args):\n",
    "    print('r1',r1)\n",
    "    print('r2',r2)\n",
    "    print('all',args)\n",
    "print_more(1,2,3,4,5,6,7,8,9,10)"
   ]
  },
  {
   "cell_type": "code",
   "execution_count": 26,
   "metadata": {},
   "outputs": [
    {
     "name": "stdout",
     "output_type": "stream",
     "text": [
      "keyword arguments: {'wine': 'merlot', 'entree': 'mutton', 'dessert': 'macaroon'}\n"
     ]
    }
   ],
   "source": [
    "def print_kwargs(**kwargs):\n",
    "    print('keyword arguments:', kwargs)\n",
    "print_kwargs(wine='merlot',entree='mutton',dessert='macaroon')"
   ]
  },
  {
   "cell_type": "code",
   "execution_count": 28,
   "metadata": {},
   "outputs": [
    {
     "name": "stdout",
     "output_type": "stream",
     "text": [
      "Red!\n",
      "Green!\n",
      "Blue!\n"
     ]
    }
   ],
   "source": [
    "#可傳函式\n",
    "def edit_story(words, func):\n",
    "    for word in words:\n",
    "        print(func(word))\n",
    "stairs=['red','green','blue']\n",
    "def enliven(word):\n",
    "    return word.capitalize()+'!'\n",
    "edit_story(stairs, enliven)"
   ]
  },
  {
   "cell_type": "code",
   "execution_count": 29,
   "metadata": {},
   "outputs": [
    {
     "name": "stdout",
     "output_type": "stream",
     "text": [
      "Red!\n",
      "Green!\n",
      "Blue!\n"
     ]
    }
   ],
   "source": [
    "edit_story(stairs, lambda word:word.capitalize() + '!')"
   ]
  },
  {
   "cell_type": "code",
   "execution_count": 1,
   "metadata": {},
   "outputs": [
    {
     "name": "stdout",
     "output_type": "stream",
     "text": [
      "請輸入購物金額：1234\n",
      "1234 元\n"
     ]
    }
   ],
   "source": [
    "money = int(input(\"請輸入購物金額：\"))\n",
    "if(money >= 10000):\n",
    "    if(money >= 100000):\n",
    "        print(str(money * 0.8), end=\" 元\\n\")  #八折\n",
    "    elif(money >= 50000):\n",
    "        print(str(money * 0.85), end=\" 元\\n\")  #八五折\n",
    "    elif(money >= 30000):\n",
    "        print(str(money * 0.9), end=\" 元\\n\")  #九折\n",
    "    else:\n",
    "        print(str(money * 0.95), end=\" 元\\n\")  #九五折\n",
    "else:\n",
    "    print(str(money), end=\" 元\\n\")  #未打折"
   ]
  },
  {
   "cell_type": "code",
   "execution_count": 2,
   "metadata": {},
   "outputs": [
    {
     "name": "stdout",
     "output_type": "stream",
     "text": [
      "請輸入學生的成績：123\n",
      "請輸入學生的成績：456\n",
      "請輸入學生的成績：-1\n",
      "共有 2 位學生\n",
      "本班總成績：579 分，平均成績：289.50 分\n"
     ]
    }
   ],
   "source": [
    "score = []\n",
    "total = inscore = 0\n",
    "while(inscore != -1):\n",
    "    inscore = int(input(\"請輸入學生的成績：\"))\n",
    "    score.append(inscore)\n",
    "print(\"共有 %d 位學生\" % (len(score) - 1))\n",
    "for i in range(0, len(score) - 1):\n",
    "    total += score[i]\n",
    "average = total / (len(score) - 1)\n",
    "print(\"本班總成績：%d 分，平均成績：%5.2f 分\" % (total, average))"
   ]
  },
  {
   "cell_type": "code",
   "execution_count": 3,
   "metadata": {},
   "outputs": [
    {
     "name": "stdout",
     "output_type": "stream",
     "text": [
      "請輸入攝氏溫度：50\n",
      "華氏溫度為：122.0 度\n"
     ]
    }
   ],
   "source": [
    "def ctof(c):\n",
    "    f = c * 1.8 + 32\n",
    "    return f\n",
    "\n",
    "inputc = float(input(\"請輸入攝氏溫度：\"))\n",
    "print(\"華氏溫度為：%5.1f 度\" % ctof(inputc))"
   ]
  },
  {
   "cell_type": "code",
   "execution_count": 1,
   "metadata": {},
   "outputs": [],
   "source": [
    "import cv2\n",
    "cv2.namedWindow(\"ShowImage1\")\n",
    "cv2.namedWindow(\"ShowImage2\")\n",
    "image1 = cv2.imread(\"img01.jpg\")\n",
    "image2 = cv2.imread(\"img01.jpg\", 0)\n",
    "cv2.imshow(\"ShowImage1\", image1) \n",
    "cv2.imshow(\"ShowImage2\", image2) \n",
    "cv2.waitKey(0)\n",
    "cv2.destroyAllWindows()"
   ]
  },
  {
   "cell_type": "code",
   "execution_count": 2,
   "metadata": {},
   "outputs": [],
   "source": [
    "import cv2\n",
    "cv2.namedWindow(\"ShowImage\")\n",
    "image = cv2.imread(\"img01.jpg\", 0)\n",
    "cv2.imshow(\"ShowImage\", image)\n",
    "cv2.imwrite(\"img01copy1.jpg\", image) \n",
    "cv2.imwrite(\"img01copy2.jpg\", image, [int(cv2.IMWRITE_JPEG_QUALITY), 50]) \n",
    "cv2.waitKey(0)\n",
    "cv2.destroyWindow(\"ShowImage\")"
   ]
  },
  {
   "cell_type": "code",
   "execution_count": 3,
   "metadata": {},
   "outputs": [],
   "source": [
    "import cv2, numpy\n",
    "cv2.namedWindow(\"plot\")\n",
    "image = cv2.imread(\"img01copy1.jpg\")\n",
    "cv2.line(image, (50,50), (300,300), (255,0,0), 2)\n",
    "cv2.rectangle(image, (500,20), (580,100), (0,255,0), 3)\n",
    "cv2.rectangle(image, (100,300), (150,360), (0,0,255), -1)\n",
    "cv2.circle(image, (500,300), 40, (255,255,0), -1)\n",
    "pts = numpy.array([[300,300],[300,340],[350,320]], numpy.int32)\n",
    "cv2.polylines(image, [pts], True, (0,255,255), 2)\n",
    "cv2.putText(image,\"background.jpg\", (350,420), cv2.FONT_HERSHEY_SIMPLEX, 1, (255,255,255), 2)\n",
    "cv2.imshow(\"plot\", image) \n",
    "cv2.waitKey(0)\n",
    "cv2.destroyAllWindows()"
   ]
  },
  {
   "cell_type": "code",
   "execution_count": null,
   "metadata": {},
   "outputs": [],
   "source": [
    "#啟動攝影機\n",
    "import cv2\n",
    "cv2.namedWindow(\"frame\")\n",
    "cap = cv2.VideoCapture(0)\n",
    "while(cap.isOpened()):\n",
    "    ret, img = cap.read()\n",
    "    if ret == True:\n",
    "        cv2.imshow(\"frame\", img)\n",
    "        k = cv2.waitKey(100)\n",
    "        if k == ord(\"z\") or k == ord(\"Z\"):\n",
    "            cv2.imwrite(\"catch.jpg\", img)\n",
    "            break\n",
    "cap.release()\n",
    "cv2.waitKey(0)\n",
    "cv2.destroyWindow(\"frame\")"
   ]
  },
  {
   "cell_type": "code",
   "execution_count": 1,
   "metadata": {},
   "outputs": [],
   "source": [
    "import cv2 \n",
    "casc_path = \"C:\\\\Users\\\\dennisf\\\\haarcascades\\\\haarcascade_frontalface_default.xml\"\n",
    "faceCascade = cv2.CascadeClassifier(casc_path)\n",
    "imagename = cv2.imread(\"a.jpg\")\n",
    "faces = faceCascade.detectMultiScale(imagename, scaleFactor=1.1, minNeighbors=5, minSize=(30,30), flags = cv2.CASCADE_SCALE_IMAGE)\n",
    "#imagename.shape[0]:圖片高度，imagename.shape[1]:圖片寬度\n",
    "cv2.rectangle(imagename, (10,imagename.shape[0]-20), (110,imagename.shape[0]), (0,0,0), -1)\n",
    "cv2.putText(imagename,\"Find \" + str(len(faces)) + \" face!\", (10,imagename.shape[0]-5), cv2.FONT_HERSHEY_SIMPLEX, 0.5, (255,255,255), 2)\n",
    "for (x,y,w,h) in faces:\n",
    "    cv2.rectangle(imagename,(x,y),(x+w, y+h),(128,255,0),2)\n",
    "cv2.namedWindow(\"facedetect\")\n",
    "cv2.imshow(\"facedetect\", imagename)\n",
    "cv2.waitKey(0)  \n",
    "cv2.destroyWindow(\"facedetect\")"
   ]
  }
 ],
 "metadata": {
  "kernelspec": {
   "display_name": "Python 3",
   "language": "python",
   "name": "python3"
  },
  "language_info": {
   "codemirror_mode": {
    "name": "ipython",
    "version": 3
   },
   "file_extension": ".py",
   "mimetype": "text/x-python",
   "name": "python",
   "nbconvert_exporter": "python",
   "pygments_lexer": "ipython3",
   "version": "3.7.0"
  }
 },
 "nbformat": 4,
 "nbformat_minor": 2
}
