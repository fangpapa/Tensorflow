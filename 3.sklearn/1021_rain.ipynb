{
 "cells": [
  {
   "cell_type": "code",
   "execution_count": 1,
   "metadata": {},
   "outputs": [
    {
     "name": "stdout",
     "output_type": "stream",
     "text": [
      "215\n",
      "150\n"
     ]
    },
    {
     "data": {
      "text/plain": [
       "<Figure size 640x480 with 1 Axes>"
      ]
     },
     "metadata": {},
     "output_type": "display_data"
    }
   ],
   "source": [
    "import csv\n",
    "import matplotlib.pyplot as plt\n",
    "\n",
    "data = []\n",
    "with open('rain.csv', newline='') as csvfile:\n",
    "    rows = csv.DictReader(csvfile)\n",
    "    for row in rows:\n",
    "        data.append(row['PRCP'])\n",
    "\n",
    "\n",
    "rains = [x for x in data if x == '0']\n",
    "no_rains = [x for x in data if x != '0']\n",
    "\n",
    "print(len(rains))\n",
    "print(len(no_rains))\n",
    "\n",
    "labels = [\"RAINS\", \"NO_RAINS\"]\n",
    "sizes = [len(rains), len(no_rains)]\n",
    "colors = [\"red\", \"green\"]\n",
    "explode = (0, 0)\n",
    "\n",
    "plt.pie(sizes,explode = explode,labels = labels,colors = colors,\\\n",
    "    labeldistance = 1.1,autopct = \"%2.1f%%\",shadow = True,\\\n",
    "    startangle = 90,pctdistance = 0.6)\n",
    "plt.axis(\"equal\")\n",
    "plt.legend()\n",
    "plt.show()"
   ]
  }
 ],
 "metadata": {
  "kernelspec": {
   "display_name": "Python 3",
   "language": "python",
   "name": "python3"
  },
  "language_info": {
   "codemirror_mode": {
    "name": "ipython",
    "version": 3
   },
   "file_extension": ".py",
   "mimetype": "text/x-python",
   "name": "python",
   "nbconvert_exporter": "python",
   "pygments_lexer": "ipython3",
   "version": "3.7.0"
  }
 },
 "nbformat": 4,
 "nbformat_minor": 2
}
